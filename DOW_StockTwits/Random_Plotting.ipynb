{
 "cells": [
  {
   "cell_type": "code",
   "execution_count": 1,
   "metadata": {},
   "outputs": [],
   "source": [
    "import matplotlib.pyplot as plt\n",
    "import numpy as np\n",
    "\n",
    "from pylab import rcParams\n",
    "rcParams['figure.figsize'] = 15,5"
   ]
  },
  {
   "cell_type": "code",
   "execution_count": 2,
   "metadata": {},
   "outputs": [],
   "source": [
    "import pickle\n",
    "\n",
    "with open('tix_df.pkl', 'rb') as f:\n",
    "    tix_df = pickle.load(f)    "
   ]
  },
  {
   "cell_type": "code",
   "execution_count": 3,
   "metadata": {},
   "outputs": [],
   "source": [
    "stock = tix_df[0].loc[:6,:]"
   ]
  },
  {
   "cell_type": "code",
   "execution_count": 4,
   "metadata": {
    "scrolled": false
   },
   "outputs": [
    {
     "data": {
      "text/html": [
       "<div>\n",
       "<style scoped>\n",
       "    .dataframe tbody tr th:only-of-type {\n",
       "        vertical-align: middle;\n",
       "    }\n",
       "\n",
       "    .dataframe tbody tr th {\n",
       "        vertical-align: top;\n",
       "    }\n",
       "\n",
       "    .dataframe thead th {\n",
       "        text-align: right;\n",
       "    }\n",
       "</style>\n",
       "<table border=\"1\" class=\"dataframe\">\n",
       "  <thead>\n",
       "    <tr style=\"text-align: right;\">\n",
       "      <th></th>\n",
       "      <th>date</th>\n",
       "      <th>trending</th>\n",
       "      <th>trendingScore</th>\n",
       "      <th>sentimentChange</th>\n",
       "      <th>volumeChange</th>\n",
       "      <th>price</th>\n",
       "      <th>change</th>\n",
       "      <th>percent</th>\n",
       "      <th>lastUpdated</th>\n",
       "      <th>extendedHoursChange</th>\n",
       "      <th>...</th>\n",
       "      <th>previousCloseDate</th>\n",
       "      <th>previousClose</th>\n",
       "      <th>dateTime</th>\n",
       "      <th>volume</th>\n",
       "      <th>lastSize</th>\n",
       "      <th>low</th>\n",
       "      <th>percentChange</th>\n",
       "      <th>high</th>\n",
       "      <th>extendedHoursPercentChange</th>\n",
       "      <th>extendedHoursDateTime</th>\n",
       "    </tr>\n",
       "  </thead>\n",
       "  <tbody>\n",
       "    <tr>\n",
       "      <th>0</th>\n",
       "      <td>2020-05-31</td>\n",
       "      <td>False</td>\n",
       "      <td>-1.96306</td>\n",
       "      <td>-0.38</td>\n",
       "      <td>1.63</td>\n",
       "      <td>156.8</td>\n",
       "      <td>-0.02</td>\n",
       "      <td>-0.012</td>\n",
       "      <td>05/29/2020, 07:54:13 PM EDT</td>\n",
       "      <td>0.36</td>\n",
       "      <td>...</td>\n",
       "      <td>2020-05-28</td>\n",
       "      <td>156.82</td>\n",
       "      <td>2020-05-29 23:54:13</td>\n",
       "      <td>8632670</td>\n",
       "      <td>4066207</td>\n",
       "      <td>153.05</td>\n",
       "      <td>-0.012</td>\n",
       "      <td>156.87</td>\n",
       "      <td>0.23</td>\n",
       "      <td>2020-05-29 23:54:13</td>\n",
       "    </tr>\n",
       "    <tr>\n",
       "      <th>1</th>\n",
       "      <td>2020-06-01</td>\n",
       "      <td>False</td>\n",
       "      <td>-2.63215</td>\n",
       "      <td>-1.11</td>\n",
       "      <td>6.4</td>\n",
       "      <td>154.86</td>\n",
       "      <td>-1.58</td>\n",
       "      <td>-1.013</td>\n",
       "      <td>06/01/2020, 07:45:03 PM EDT</td>\n",
       "      <td>-0.72</td>\n",
       "      <td>...</td>\n",
       "      <td>2020-05-29</td>\n",
       "      <td>156.44</td>\n",
       "      <td>2020-06-01 23:45:03</td>\n",
       "      <td>2084341</td>\n",
       "      <td>188374</td>\n",
       "      <td>154.89</td>\n",
       "      <td>-1.013</td>\n",
       "      <td>157.55</td>\n",
       "      <td>-0.463</td>\n",
       "      <td>2020-06-01 23:45:03</td>\n",
       "    </tr>\n",
       "    <tr>\n",
       "      <th>2</th>\n",
       "      <td>2020-06-02</td>\n",
       "      <td>False</td>\n",
       "      <td>-1.44435</td>\n",
       "      <td>-1.22</td>\n",
       "      <td>-4.51</td>\n",
       "      <td>158.48</td>\n",
       "      <td>2.9</td>\n",
       "      <td>1.857</td>\n",
       "      <td>06/02/2020, 07:46:41 PM EDT</td>\n",
       "      <td>0.84</td>\n",
       "      <td>...</td>\n",
       "      <td>2020-06-01</td>\n",
       "      <td>155.58</td>\n",
       "      <td>2020-06-02 23:46:41</td>\n",
       "      <td>2333605</td>\n",
       "      <td>234959</td>\n",
       "      <td>156.63</td>\n",
       "      <td>1.857</td>\n",
       "      <td>158.6</td>\n",
       "      <td>0.533</td>\n",
       "      <td>2020-06-02 23:46:41</td>\n",
       "    </tr>\n",
       "    <tr>\n",
       "      <th>3</th>\n",
       "      <td>2020-06-03</td>\n",
       "      <td>False</td>\n",
       "      <td>2.65165</td>\n",
       "      <td>-3.33</td>\n",
       "      <td>4.76</td>\n",
       "      <td>161.22</td>\n",
       "      <td>3.58</td>\n",
       "      <td>2.271</td>\n",
       "      <td>06/03/2020, 07:59:59 PM EDT</td>\n",
       "      <td>0.01</td>\n",
       "      <td>...</td>\n",
       "      <td>2020-06-02</td>\n",
       "      <td>157.64</td>\n",
       "      <td>2020-06-03 23:59:59</td>\n",
       "      <td>3674275</td>\n",
       "      <td>520976</td>\n",
       "      <td>158.52</td>\n",
       "      <td>2.271</td>\n",
       "      <td>161.66</td>\n",
       "      <td>0.006</td>\n",
       "      <td>2020-06-03 23:59:59</td>\n",
       "    </tr>\n",
       "    <tr>\n",
       "      <th>4</th>\n",
       "      <td>2020-06-04</td>\n",
       "      <td>False</td>\n",
       "      <td>-0.585135</td>\n",
       "      <td>0</td>\n",
       "      <td>-9.09</td>\n",
       "      <td>162.55</td>\n",
       "      <td>1.34</td>\n",
       "      <td>0.831</td>\n",
       "      <td>06/04/2020, 07:58:28 PM EDT</td>\n",
       "      <td>0</td>\n",
       "      <td>...</td>\n",
       "      <td>2020-06-03</td>\n",
       "      <td>161.21</td>\n",
       "      <td>2020-06-04 23:58:28</td>\n",
       "      <td>2880967</td>\n",
       "      <td>222546</td>\n",
       "      <td>159.18</td>\n",
       "      <td>0.831</td>\n",
       "      <td>162.58</td>\n",
       "      <td>0</td>\n",
       "      <td>2020-06-04 23:41:10</td>\n",
       "    </tr>\n",
       "    <tr>\n",
       "      <th>5</th>\n",
       "      <td>2020-06-05</td>\n",
       "      <td>False</td>\n",
       "      <td>-0.781025</td>\n",
       "      <td>9.29</td>\n",
       "      <td>3.33</td>\n",
       "      <td>167.47</td>\n",
       "      <td>4.92</td>\n",
       "      <td>3.026</td>\n",
       "      <td>06/05/2020, 07:59:59 PM EDT</td>\n",
       "      <td>0.06</td>\n",
       "      <td>...</td>\n",
       "      <td>2020-06-04</td>\n",
       "      <td>162.55</td>\n",
       "      <td>2020-06-05 23:59:59</td>\n",
       "      <td>4527587</td>\n",
       "      <td>541077</td>\n",
       "      <td>165</td>\n",
       "      <td>3.026</td>\n",
       "      <td>168.35</td>\n",
       "      <td>0.036</td>\n",
       "      <td>NaN</td>\n",
       "    </tr>\n",
       "    <tr>\n",
       "      <th>6</th>\n",
       "      <td>2020-06-08</td>\n",
       "      <td>False</td>\n",
       "      <td>0.448485</td>\n",
       "      <td>0</td>\n",
       "      <td>2.52</td>\n",
       "      <td>166.01</td>\n",
       "      <td>-1.4</td>\n",
       "      <td>-0.838</td>\n",
       "      <td>06/08/2020, 07:59:23 PM EDT</td>\n",
       "      <td>-0.86</td>\n",
       "      <td>...</td>\n",
       "      <td>2020-06-05</td>\n",
       "      <td>167.41</td>\n",
       "      <td>2020-06-08 23:59:23</td>\n",
       "      <td>2987595</td>\n",
       "      <td>382994</td>\n",
       "      <td>165.27</td>\n",
       "      <td>-0.838</td>\n",
       "      <td>169.54</td>\n",
       "      <td>-0.515</td>\n",
       "      <td>NaN</td>\n",
       "    </tr>\n",
       "  </tbody>\n",
       "</table>\n",
       "<p>7 rows × 25 columns</p>\n",
       "</div>"
      ],
      "text/plain": [
       "         date trending trendingScore sentimentChange volumeChange   price  \\\n",
       "0  2020-05-31    False      -1.96306           -0.38         1.63   156.8   \n",
       "1  2020-06-01    False      -2.63215           -1.11          6.4  154.86   \n",
       "2  2020-06-02    False      -1.44435           -1.22        -4.51  158.48   \n",
       "3  2020-06-03    False       2.65165           -3.33         4.76  161.22   \n",
       "4  2020-06-04    False     -0.585135               0        -9.09  162.55   \n",
       "5  2020-06-05    False     -0.781025            9.29         3.33  167.47   \n",
       "6  2020-06-08    False      0.448485               0         2.52  166.01   \n",
       "\n",
       "  change percent                  lastUpdated extendedHoursChange  ...  \\\n",
       "0  -0.02  -0.012  05/29/2020, 07:54:13 PM EDT                0.36  ...   \n",
       "1  -1.58  -1.013  06/01/2020, 07:45:03 PM EDT               -0.72  ...   \n",
       "2    2.9   1.857  06/02/2020, 07:46:41 PM EDT                0.84  ...   \n",
       "3   3.58   2.271  06/03/2020, 07:59:59 PM EDT                0.01  ...   \n",
       "4   1.34   0.831  06/04/2020, 07:58:28 PM EDT                   0  ...   \n",
       "5   4.92   3.026  06/05/2020, 07:59:59 PM EDT                0.06  ...   \n",
       "6   -1.4  -0.838  06/08/2020, 07:59:23 PM EDT               -0.86  ...   \n",
       "\n",
       "  previousCloseDate previousClose             dateTime   volume lastSize  \\\n",
       "0        2020-05-28        156.82  2020-05-29 23:54:13  8632670  4066207   \n",
       "1        2020-05-29        156.44  2020-06-01 23:45:03  2084341   188374   \n",
       "2        2020-06-01        155.58  2020-06-02 23:46:41  2333605   234959   \n",
       "3        2020-06-02        157.64  2020-06-03 23:59:59  3674275   520976   \n",
       "4        2020-06-03        161.21  2020-06-04 23:58:28  2880967   222546   \n",
       "5        2020-06-04        162.55  2020-06-05 23:59:59  4527587   541077   \n",
       "6        2020-06-05        167.41  2020-06-08 23:59:23  2987595   382994   \n",
       "\n",
       "      low percentChange    high extendedHoursPercentChange  \\\n",
       "0  153.05        -0.012  156.87                       0.23   \n",
       "1  154.89        -1.013  157.55                     -0.463   \n",
       "2  156.63         1.857   158.6                      0.533   \n",
       "3  158.52         2.271  161.66                      0.006   \n",
       "4  159.18         0.831  162.58                          0   \n",
       "5     165         3.026  168.35                      0.036   \n",
       "6  165.27        -0.838  169.54                     -0.515   \n",
       "\n",
       "  extendedHoursDateTime  \n",
       "0   2020-05-29 23:54:13  \n",
       "1   2020-06-01 23:45:03  \n",
       "2   2020-06-02 23:46:41  \n",
       "3   2020-06-03 23:59:59  \n",
       "4   2020-06-04 23:41:10  \n",
       "5                   NaN  \n",
       "6                   NaN  \n",
       "\n",
       "[7 rows x 25 columns]"
      ]
     },
     "execution_count": 4,
     "metadata": {},
     "output_type": "execute_result"
    }
   ],
   "source": [
    "stock"
   ]
  },
  {
   "cell_type": "code",
   "execution_count": 7,
   "metadata": {},
   "outputs": [],
   "source": [
    "prices = np.array(stock['price'])"
   ]
  },
  {
   "cell_type": "code",
   "execution_count": 8,
   "metadata": {},
   "outputs": [],
   "source": [
    "ts = (np.array(stock['trendingScore']) + np.array(stock['sentimentChange']))/2"
   ]
  },
  {
   "cell_type": "code",
   "execution_count": 9,
   "metadata": {},
   "outputs": [],
   "source": [
    "log_rets = np.zeros(len(prices)-1)\n",
    "\n",
    "for i in range(len(prices)-1):\n",
    "    log_ret = np.log(prices[i+1]) - np.log(prices[i])\n",
    "    log_rets[i] = log_ret\n",
    "    "
   ]
  },
  {
   "cell_type": "code",
   "execution_count": 10,
   "metadata": {},
   "outputs": [
    {
     "data": {
      "text/plain": [
       "array([-0.01244962,  0.02310692,  0.01714149,  0.00821575,  0.02981858,\n",
       "       -0.0087562 ])"
      ]
     },
     "execution_count": 10,
     "metadata": {},
     "output_type": "execute_result"
    }
   ],
   "source": [
    "log_rets"
   ]
  },
  {
   "cell_type": "code",
   "execution_count": 11,
   "metadata": {},
   "outputs": [
    {
     "data": {
      "text/plain": [
       "array([-1.17153, -1.8710750000000003, -1.3321749999999999, -0.339175,\n",
       "       -0.2925675, 4.2544875, 0.2242425], dtype=object)"
      ]
     },
     "execution_count": 11,
     "metadata": {},
     "output_type": "execute_result"
    }
   ],
   "source": [
    "ts"
   ]
  },
  {
   "cell_type": "code",
   "execution_count": 12,
   "metadata": {},
   "outputs": [
    {
     "data": {
      "text/plain": [
       "<matplotlib.collections.PathCollection at 0x119993f28>"
      ]
     },
     "execution_count": 12,
     "metadata": {},
     "output_type": "execute_result"
    },
    {
     "data": {
      "image/png": "[encoded data removed]",
      "text/plain": [
       "<Figure size 432x288 with 1 Axes>"
      ]
     },
     "metadata": {},
     "output_type": "display_data"
    }
   ],
   "source": [
    "plt.scatter(ts[:-1], log_rets)"
   ]
  },
  {
   "cell_type": "code",
   "execution_count": 46,
   "metadata": {},
   "outputs": [],
   "source": [
    "log_rets = []\n",
    "all_inputs = []\n",
    "\n",
    "avg_rets = []\n",
    "avg_inputs = []\n",
    "\n",
    "for i in range(len(tix_df)):\n",
    "    data = tix_df[i].loc[:6, :]\n",
    "    prices = np.array(data['price'])\n",
    "    #inputs = data['price']*(np.array(data['trendingScore'])+np.array(data['sentimentChange'])+np.array(data['volumeChange']))/3\n",
    "    #inputs = data['volume']*data['percentChange']*data['trendingScore']\n",
    "#     inputs = data['extendedHoursPercentChange']+10*data['trendingScore']\n",
    "    #inputs = data['volume']*data['trendingScore']\n",
    "    inputs = data['trendingScore']\n",
    "    \n",
    "    for i in range(2,len(prices)):\n",
    "#         log_ret = np.log(prices[i+1]) - np.log(prices[i])\n",
    "#         log_rets.append(log_ret)\n",
    "        log_ret = np.log(prices[i]) - np.log(prices[i-1])\n",
    "#         log_ret = prices[i]/prices[i-1] - 1\n",
    "        avg_rets.append(log_ret)\n",
    "        \n",
    "        avg_inputs.append(np.mean(inputs[i-2:i]))\n",
    "        \n",
    "    \n",
    "#     avg_rets.append(np.mean(log_rets))\n",
    "    \n",
    "    for i in range(len(ts)-1):\n",
    "        all_inputs.append(inputs[i])\n",
    "        \n",
    "#     avg_inputs.append(np.mean(inputs))"
   ]
  },
  {
   "cell_type": "code",
   "execution_count": 47,
   "metadata": {},
   "outputs": [
    {
     "data": {
      "text/plain": [
       "Text(0, 0.5, 'output')"
      ]
     },
     "execution_count": 47,
     "metadata": {},
     "output_type": "execute_result"
    },
    {
     "data": {
      "image/png": "[encoded data removed]",
      "text/plain": [
       "<Figure size 432x288 with 1 Axes>"
      ]
     },
     "metadata": {},
     "output_type": "display_data"
    }
   ],
   "source": [
    "plt.scatter(avg_inputs, avg_rets)\n",
    "plt.xlabel('input')\n",
    "plt.ylabel('output')"
   ]
  },
  {
   "cell_type": "code",
   "execution_count": 24,
   "metadata": {},
   "outputs": [
    {
     "data": {
      "text/plain": [
       "<matplotlib.collections.PathCollection at 0x11d8be5f8>"
      ]
     },
     "execution_count": 24,
     "metadata": {},
     "output_type": "execute_result"
    },
    {
     "data": {
      "image/png": "[encoded data removed]",
      "text/plain": [
       "<Figure size 432x288 with 1 Axes>"
      ]
     },
     "metadata": {},
     "output_type": "display_data"
    }
   ],
   "source": [
    "plt.scatter(data['trendingScore'],data['price'])"
   ]
  },
  {
   "cell_type": "code",
   "execution_count": null,
   "metadata": {},
   "outputs": [],
   "source": []
  }
 ],
 "metadata": {
  "kernelspec": {
   "display_name": "Python [default]",
   "language": "python",
   "name": "python3"
  },
  "language_info": {
   "codemirror_mode": {
    "name": "ipython",
    "version": 3
   },
   "file_extension": ".py",
   "mimetype": "text/x-python",
   "name": "python",
   "nbconvert_exporter": "python",
   "pygments_lexer": "ipython3",
   "version": "3.6.8"
  }
 },
 "nbformat": 4,
 "nbformat_minor": 2
}
