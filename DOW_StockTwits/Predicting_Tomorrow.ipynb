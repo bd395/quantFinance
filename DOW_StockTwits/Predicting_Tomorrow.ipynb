{
 "cells": [
  {
   "cell_type": "code",
   "execution_count": 2,
   "metadata": {},
   "outputs": [],
   "source": [
    "# Data handling imports\n",
    "\n",
    "import yfinance as yf\n",
    "import pandas as pd\n",
    "import numpy as np\n",
    "# import datetime as dt\n",
    "from datetime import date\n",
    "# import datetime\n",
    "from datetime import timedelta\n",
    "import matplotlib.pyplot as plt\n",
    "from statistics import mode\n",
    "import datetime as dt"
   ]
  },
  {
   "cell_type": "code",
   "execution_count": 3,
   "metadata": {},
   "outputs": [],
   "source": [
    "tix = pd.read_table('./DJIA_comps.txt', header=None).to_numpy()"
   ]
  },
  {
   "cell_type": "code",
   "execution_count": 4,
   "metadata": {},
   "outputs": [],
   "source": [
    "tix = np.concatenate(tix, axis=0).tolist()"
   ]
  },
  {
   "cell_type": "code",
   "execution_count": 5,
   "metadata": {},
   "outputs": [],
   "source": [
    "import pickle\n",
    "\n",
    "with open('tix_df.pkl', 'rb') as f:\n",
    "    tix_df = pickle.load(f)    "
   ]
  },
  {
   "cell_type": "code",
   "execution_count": 6,
   "metadata": {},
   "outputs": [],
   "source": [
    "today_input = pd.DataFrame(index=tix, columns=tix_df[0].columns)"
   ]
  },
  {
   "cell_type": "code",
   "execution_count": 7,
   "metadata": {},
   "outputs": [
    {
     "data": {
      "text/plain": [
       "date                                           2020-06-08\n",
       "trending                                            False\n",
       "trendingScore                                    0.448485\n",
       "sentimentChange                                         0\n",
       "volumeChange                                         2.52\n",
       "price                                              166.01\n",
       "change                                               -1.4\n",
       "percent                                            -0.838\n",
       "lastUpdated                   06/08/2020, 07:59:23 PM EDT\n",
       "extendedHoursChange                                 -0.86\n",
       "open                                                167.1\n",
       "outcome                                           Success\n",
       "last                                               166.01\n",
       "extendedHoursPrice                                 166.01\n",
       "easternDateTime               06/08/2020, 04:00:00 PM EDT\n",
       "previousCloseDate                              2020-06-05\n",
       "previousClose                                      167.41\n",
       "dateTime                              2020-06-08 23:59:23\n",
       "volume                                            2987595\n",
       "lastSize                                           382994\n",
       "low                                                165.27\n",
       "percentChange                                      -0.838\n",
       "high                                               169.54\n",
       "extendedHoursPercentChange                         -0.515\n",
       "extendedHoursDateTime                                 NaN\n",
       "Name: 6, dtype: object"
      ]
     },
     "execution_count": 7,
     "metadata": {},
     "output_type": "execute_result"
    }
   ],
   "source": [
    "tix_df[0].iloc[6,:]"
   ]
  },
  {
   "cell_type": "code",
   "execution_count": 8,
   "metadata": {},
   "outputs": [],
   "source": [
    "todays_row = 6\n",
    "\n",
    "for i in range(len(today_input)):\n",
    "    today_input.iloc[i,:] = tix_df[i].iloc[todays_row,:] "
   ]
  },
  {
   "cell_type": "code",
   "execution_count": 9,
   "metadata": {},
   "outputs": [],
   "source": [
    "# [2,4] = [sentimentChange, percent]\n",
    "\n",
    "model_input = today_input.loc[:,[\"sentimentChange\",\"percent\"]]"
   ]
  },
  {
   "cell_type": "code",
   "execution_count": 10,
   "metadata": {},
   "outputs": [
    {
     "data": {
      "text/html": [
       "<div>\n",
       "<style scoped>\n",
       "    .dataframe tbody tr th:only-of-type {\n",
       "        vertical-align: middle;\n",
       "    }\n",
       "\n",
       "    .dataframe tbody tr th {\n",
       "        vertical-align: top;\n",
       "    }\n",
       "\n",
       "    .dataframe thead th {\n",
       "        text-align: right;\n",
       "    }\n",
       "</style>\n",
       "<table border=\"1\" class=\"dataframe\">\n",
       "  <thead>\n",
       "    <tr style=\"text-align: right;\">\n",
       "      <th></th>\n",
       "      <th>sentimentChange</th>\n",
       "      <th>percent</th>\n",
       "    </tr>\n",
       "  </thead>\n",
       "  <tbody>\n",
       "    <tr>\n",
       "      <th>MMM</th>\n",
       "      <td>0</td>\n",
       "      <td>-0.838</td>\n",
       "    </tr>\n",
       "    <tr>\n",
       "      <th>AXP</th>\n",
       "      <td>-2.19</td>\n",
       "      <td>3.353</td>\n",
       "    </tr>\n",
       "    <tr>\n",
       "      <th>AAPL</th>\n",
       "      <td>2.93</td>\n",
       "      <td>0.336</td>\n",
       "    </tr>\n",
       "    <tr>\n",
       "      <th>BA</th>\n",
       "      <td>0.17</td>\n",
       "      <td>16.074</td>\n",
       "    </tr>\n",
       "    <tr>\n",
       "      <th>CAT</th>\n",
       "      <td>2.67</td>\n",
       "      <td>1.924</td>\n",
       "    </tr>\n",
       "    <tr>\n",
       "      <th>CVX</th>\n",
       "      <td>2.45</td>\n",
       "      <td>2.885</td>\n",
       "    </tr>\n",
       "    <tr>\n",
       "      <th>CSCO</th>\n",
       "      <td>-1.56</td>\n",
       "      <td>0.461</td>\n",
       "    </tr>\n",
       "    <tr>\n",
       "      <th>KO</th>\n",
       "      <td>0.93</td>\n",
       "      <td>1.729</td>\n",
       "    </tr>\n",
       "    <tr>\n",
       "      <th>DIS</th>\n",
       "      <td>-0.18</td>\n",
       "      <td>1.916</td>\n",
       "    </tr>\n",
       "    <tr>\n",
       "      <th>DOW</th>\n",
       "      <td>5.88</td>\n",
       "      <td>4.28</td>\n",
       "    </tr>\n",
       "    <tr>\n",
       "      <th>XOM</th>\n",
       "      <td>-2.34</td>\n",
       "      <td>3.218</td>\n",
       "    </tr>\n",
       "    <tr>\n",
       "      <th>GS</th>\n",
       "      <td>6.4</td>\n",
       "      <td>1.1</td>\n",
       "    </tr>\n",
       "    <tr>\n",
       "      <th>HD</th>\n",
       "      <td>-1.29</td>\n",
       "      <td>0.734</td>\n",
       "    </tr>\n",
       "    <tr>\n",
       "      <th>IBM</th>\n",
       "      <td>0.64</td>\n",
       "      <td>2.448</td>\n",
       "    </tr>\n",
       "    <tr>\n",
       "      <th>INTC</th>\n",
       "      <td>0.53</td>\n",
       "      <td>-1.072</td>\n",
       "    </tr>\n",
       "    <tr>\n",
       "      <th>JNJ</th>\n",
       "      <td>-0.12</td>\n",
       "      <td>-0.476</td>\n",
       "    </tr>\n",
       "    <tr>\n",
       "      <th>JPM</th>\n",
       "      <td>-1.37</td>\n",
       "      <td>2.155</td>\n",
       "    </tr>\n",
       "    <tr>\n",
       "      <th>MCD</th>\n",
       "      <td>-1.11</td>\n",
       "      <td>2.785</td>\n",
       "    </tr>\n",
       "    <tr>\n",
       "      <th>MRK</th>\n",
       "      <td>1.13</td>\n",
       "      <td>0.778</td>\n",
       "    </tr>\n",
       "    <tr>\n",
       "      <th>MSFT</th>\n",
       "      <td>2.68</td>\n",
       "      <td>0.535</td>\n",
       "    </tr>\n",
       "    <tr>\n",
       "      <th>NKE</th>\n",
       "      <td>5.74</td>\n",
       "      <td>1.27</td>\n",
       "    </tr>\n",
       "    <tr>\n",
       "      <th>PFE</th>\n",
       "      <td>0.95</td>\n",
       "      <td>1.394</td>\n",
       "    </tr>\n",
       "    <tr>\n",
       "      <th>PG</th>\n",
       "      <td>-5.71</td>\n",
       "      <td>0.44</td>\n",
       "    </tr>\n",
       "    <tr>\n",
       "      <th>TRV</th>\n",
       "      <td>0</td>\n",
       "      <td>2.536</td>\n",
       "    </tr>\n",
       "    <tr>\n",
       "      <th>RTX</th>\n",
       "      <td>0.32</td>\n",
       "      <td>3.251</td>\n",
       "    </tr>\n",
       "    <tr>\n",
       "      <th>UNH</th>\n",
       "      <td>2.23</td>\n",
       "      <td>-0.763</td>\n",
       "    </tr>\n",
       "    <tr>\n",
       "      <th>VZ</th>\n",
       "      <td>0.91</td>\n",
       "      <td>0.434</td>\n",
       "    </tr>\n",
       "    <tr>\n",
       "      <th>V</th>\n",
       "      <td>1.52</td>\n",
       "      <td>0.145</td>\n",
       "    </tr>\n",
       "    <tr>\n",
       "      <th>WMT</th>\n",
       "      <td>-0.9</td>\n",
       "      <td>-0.403</td>\n",
       "    </tr>\n",
       "    <tr>\n",
       "      <th>WBA</th>\n",
       "      <td>7.32</td>\n",
       "      <td>3.469</td>\n",
       "    </tr>\n",
       "  </tbody>\n",
       "</table>\n",
       "</div>"
      ],
      "text/plain": [
       "     sentimentChange percent\n",
       "MMM                0  -0.838\n",
       "AXP            -2.19   3.353\n",
       "AAPL            2.93   0.336\n",
       "BA              0.17  16.074\n",
       "CAT             2.67   1.924\n",
       "CVX             2.45   2.885\n",
       "CSCO           -1.56   0.461\n",
       "KO              0.93   1.729\n",
       "DIS            -0.18   1.916\n",
       "DOW             5.88    4.28\n",
       "XOM            -2.34   3.218\n",
       "GS               6.4     1.1\n",
       "HD             -1.29   0.734\n",
       "IBM             0.64   2.448\n",
       "INTC            0.53  -1.072\n",
       "JNJ            -0.12  -0.476\n",
       "JPM            -1.37   2.155\n",
       "MCD            -1.11   2.785\n",
       "MRK             1.13   0.778\n",
       "MSFT            2.68   0.535\n",
       "NKE             5.74    1.27\n",
       "PFE             0.95   1.394\n",
       "PG             -5.71    0.44\n",
       "TRV                0   2.536\n",
       "RTX             0.32   3.251\n",
       "UNH             2.23  -0.763\n",
       "VZ              0.91   0.434\n",
       "V               1.52   0.145\n",
       "WMT             -0.9  -0.403\n",
       "WBA             7.32   3.469"
      ]
     },
     "execution_count": 10,
     "metadata": {},
     "output_type": "execute_result"
    }
   ],
   "source": [
    "model_input"
   ]
  },
  {
   "cell_type": "code",
   "execution_count": 11,
   "metadata": {},
   "outputs": [],
   "source": [
    "from sklearn.externals import joblib\n",
    "model = joblib.load('twitsML_model.pkl')"
   ]
  },
  {
   "cell_type": "code",
   "execution_count": 12,
   "metadata": {},
   "outputs": [],
   "source": [
    "tomorrow_pred = model.predict(model_input)"
   ]
  },
  {
   "cell_type": "code",
   "execution_count": 13,
   "metadata": {},
   "outputs": [
    {
     "data": {
      "text/plain": [
       "array([-1., -1., -1.,  1., -1., -1., -1., -1., -1.,  1., -1.,  1., -1.,\n",
       "       -1., -1., -1., -1., -1., -1., -1.,  1., -1.,  1., -1., -1., -1.,\n",
       "       -1., -1., -1.,  1.])"
      ]
     },
     "execution_count": 13,
     "metadata": {},
     "output_type": "execute_result"
    }
   ],
   "source": [
    "tomorrow_pred"
   ]
  },
  {
   "cell_type": "code",
   "execution_count": 14,
   "metadata": {},
   "outputs": [],
   "source": [
    "final_results = pd.DataFrame(tomorrow_pred, index=model_input.index)\n",
    "final_results.columns = [\"Decision\"]"
   ]
  },
  {
   "cell_type": "code",
   "execution_count": 15,
   "metadata": {},
   "outputs": [],
   "source": [
    "longs = final_results[final_results[\"Decision\"] > 0]"
   ]
  },
  {
   "cell_type": "code",
   "execution_count": 16,
   "metadata": {},
   "outputs": [
    {
     "data": {
      "text/plain": [
       "'BA'"
      ]
     },
     "execution_count": 16,
     "metadata": {},
     "output_type": "execute_result"
    }
   ],
   "source": [
    "longs.index[0]"
   ]
  },
  {
   "cell_type": "code",
   "execution_count": 17,
   "metadata": {},
   "outputs": [
    {
     "data": {
      "text/plain": [
       "array([1.])"
      ]
     },
     "execution_count": 17,
     "metadata": {},
     "output_type": "execute_result"
    }
   ],
   "source": [
    "test = pd.DataFrame([[7.12, 280]])\n",
    "test.columns = [\"sentimentChange\", \"pctChg\"]\n",
    "test.index = [\"Test\"]\n",
    "\n",
    "model.predict(test)"
   ]
  },
  {
   "cell_type": "markdown",
   "metadata": {},
   "source": [
    "SFIX = up\n",
    "UDOW = down\n",
    "MARK = up\n",
    "NKLA = up\n",
    "AZUL = up"
   ]
  },
  {
   "cell_type": "code",
   "execution_count": 18,
   "metadata": {},
   "outputs": [
    {
     "name": "stdout",
     "output_type": "stream",
     "text": [
      "sentimentChange      0.17\n",
      "percent            16.074\n",
      "Name: BA, dtype: object\n",
      "\n",
      "sentimentChange    5.88\n",
      "percent            4.28\n",
      "Name: DOW, dtype: object\n",
      "\n",
      "sentimentChange    6.4\n",
      "percent            1.1\n",
      "Name: GS, dtype: object\n",
      "\n",
      "sentimentChange    5.74\n",
      "percent            1.27\n",
      "Name: NKE, dtype: object\n",
      "\n",
      "sentimentChange   -5.71\n",
      "percent            0.44\n",
      "Name: PG, dtype: object\n",
      "\n",
      "sentimentChange     7.32\n",
      "percent            3.469\n",
      "Name: WBA, dtype: object\n",
      "\n"
     ]
    }
   ],
   "source": [
    "for i in range(len(longs.index)):\n",
    "    print(model_input.loc[longs.index[i]])\n",
    "    print(\"\")"
   ]
  },
  {
   "cell_type": "code",
   "execution_count": 19,
   "metadata": {},
   "outputs": [],
   "source": [
    "x = tix_df[0].loc[:,\"sentimentChange\"]"
   ]
  },
  {
   "cell_type": "code",
   "execution_count": 20,
   "metadata": {},
   "outputs": [],
   "source": [
    "y = tix_df[0].loc[:,\"percent\"]"
   ]
  },
  {
   "cell_type": "code",
   "execution_count": 21,
   "metadata": {},
   "outputs": [],
   "source": [
    "x = x[:6]"
   ]
  },
  {
   "cell_type": "code",
   "execution_count": 22,
   "metadata": {},
   "outputs": [],
   "source": [
    "y = y[1:7]"
   ]
  },
  {
   "cell_type": "code",
   "execution_count": 23,
   "metadata": {},
   "outputs": [
    {
     "data": {
      "text/plain": [
       "0   -0.38\n",
       "1   -1.11\n",
       "2   -1.22\n",
       "3   -3.33\n",
       "4       0\n",
       "5    9.29\n",
       "Name: sentimentChange, dtype: object"
      ]
     },
     "execution_count": 23,
     "metadata": {},
     "output_type": "execute_result"
    }
   ],
   "source": [
    "x"
   ]
  },
  {
   "cell_type": "code",
   "execution_count": 24,
   "metadata": {},
   "outputs": [
    {
     "data": {
      "text/plain": [
       "1   -1.013\n",
       "2    1.857\n",
       "3    2.271\n",
       "4    0.831\n",
       "5    3.026\n",
       "6   -0.838\n",
       "Name: percent, dtype: object"
      ]
     },
     "execution_count": 24,
     "metadata": {},
     "output_type": "execute_result"
    }
   ],
   "source": [
    "y"
   ]
  },
  {
   "cell_type": "code",
   "execution_count": 25,
   "metadata": {},
   "outputs": [
    {
     "data": {
      "text/plain": [
       "<matplotlib.collections.PathCollection at 0x11719e518>"
      ]
     },
     "execution_count": 25,
     "metadata": {},
     "output_type": "execute_result"
    },
    {
     "data": {
      "image/png": "[encoded data removed]",
      "text/plain": [
       "<Figure size 432x288 with 1 Axes>"
      ]
     },
     "metadata": {},
     "output_type": "display_data"
    }
   ],
   "source": [
    "plt.scatter(x,y)"
   ]
  },
  {
   "cell_type": "code",
   "execution_count": 49,
   "metadata": {},
   "outputs": [
    {
     "data": {
      "image/png": "[encoded data removed]",
      "text/plain": [
       "<Figure size 1080x360 with 1 Axes>"
      ]
     },
     "metadata": {},
     "output_type": "display_data"
    }
   ],
   "source": [
    "from pylab import rcParams\n",
    "rcParams['figure.figsize'] = 15,5\n",
    "\n",
    "from mpl_toolkits.mplot3d import Axes3D\n",
    "\n",
    "#fig = plt.figure()\n",
    "#ax = fig.add_subplot(111, projection='3d')\n",
    "\n",
    "for i in range(len(tix_df)):\n",
    "    x = tix_df[i].loc[:,\"sentimentChange\"]\n",
    "    y = tix_df[i].loc[:,'trendingScore']\n",
    "    z = tix_df[i].loc[:,\"percent\"]\n",
    "    \n",
    "    x = x[:6].tolist()\n",
    "    y = y[:6].tolist()\n",
    "    z = z[1:7].tolist()\n",
    "    \n",
    "    plt.scatter(y,z)\n",
    "    \n",
    "#     ax.scatter(x, y, z)\n",
    "\n",
    "#     ax.set_xlabel('SentChg')\n",
    "#     ax.set_ylabel('VolChg')\n",
    "#     ax.set_zlabel('T+1 Ret')\n"
   ]
  },
  {
   "cell_type": "code",
   "execution_count": null,
   "metadata": {},
   "outputs": [],
   "source": [
    "from mpl_toolkits.mplot3d import Axes3D\n",
    "import matplotlib.pyplot as plt\n",
    "\n",
    "fig = plt.figure()\n",
    "ax = fig.add_subplot(111, projection='3d')\n",
    "\n",
    "x = x.tolist()\n",
    "y = y.tolist()\n",
    "z = z.tolist()\n",
    "\n",
    "ax.scatter(x, y, z)\n",
    "\n",
    "ax.set_xlabel('X Label')\n",
    "ax.set_ylabel('Y Label')\n",
    "ax.set_zlabel('Z Label')"
   ]
  },
  {
   "cell_type": "code",
   "execution_count": 42,
   "metadata": {},
   "outputs": [
    {
     "data": {
      "text/plain": [
       "<matplotlib.collections.PathCollection at 0x1a1a3884a8>"
      ]
     },
     "execution_count": 42,
     "metadata": {},
     "output_type": "execute_result"
    },
    {
     "data": {
      "image/png": "[encoded data removed]",
      "text/plain": [
       "<Figure size 1080x360 with 1 Axes>"
      ]
     },
     "metadata": {},
     "output_type": "display_data"
    }
   ],
   "source": [
    "plt.scatter(y,z)"
   ]
  },
  {
   "cell_type": "code",
   "execution_count": 28,
   "metadata": {},
   "outputs": [
    {
     "name": "stderr",
     "output_type": "stream",
     "text": [
      "/Users/Brian/ENTER/lib/python3.6/site-packages/ipykernel/__main__.py:1: RuntimeWarning: invalid value encountered in log\n",
      "  if __name__ == '__main__':\n"
     ]
    },
    {
     "data": {
      "text/plain": [
       "array([ 1.05221925,         nan, -0.15899573, -1.20731171,  0.25075872,\n",
       "        0.9130856 ])"
      ]
     },
     "execution_count": 28,
     "metadata": {},
     "output_type": "execute_result"
    }
   ],
   "source": [
    "plt.plot(tix_df[0].loc[:,'trendingScore'], )"
   ]
  },
  {
   "cell_type": "code",
   "execution_count": null,
   "metadata": {},
   "outputs": [],
   "source": []
  }
 ],
 "metadata": {
  "kernelspec": {
   "display_name": "Python [default]",
   "language": "python",
   "name": "python3"
  },
  "language_info": {
   "codemirror_mode": {
    "name": "ipython",
    "version": 3
   },
   "file_extension": ".py",
   "mimetype": "text/x-python",
   "name": "python",
   "nbconvert_exporter": "python",
   "pygments_lexer": "ipython3",
   "version": "3.6.8"
  }
 },
 "nbformat": 4,
 "nbformat_minor": 2
}
