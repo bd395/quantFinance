{
 "cells": [
  {
   "cell_type": "code",
   "execution_count": 1,
   "metadata": {},
   "outputs": [],
   "source": [
    "# Data handling imports\n",
    "\n",
    "import yfinance as yf\n",
    "import pandas as pd\n",
    "import numpy as np\n",
    "# import datetime as dt\n",
    "from datetime import date\n",
    "# import datetime"
   ]
  },
  {
   "cell_type": "code",
   "execution_count": 2,
   "metadata": {},
   "outputs": [],
   "source": [
    "# Webscraping imports\n",
    "\n",
    "import json\n",
    "import re\n",
    "\n",
    "import requests \n",
    "from bs4 import BeautifulSoup "
   ]
  },
  {
   "cell_type": "code",
   "execution_count": 3,
   "metadata": {},
   "outputs": [],
   "source": [
    "tix = pd.read_table('./DJIA_comps.txt', header=None).to_numpy()"
   ]
  },
  {
   "cell_type": "code",
   "execution_count": 4,
   "metadata": {},
   "outputs": [],
   "source": [
    "tix = np.concatenate(tix, axis=0)"
   ]
  },
  {
   "cell_type": "code",
   "execution_count": 5,
   "metadata": {},
   "outputs": [],
   "source": [
    "# # Attributes\n",
    "\n",
    "static_attributes = ['symbol','exchange', 'sector', 'industry', 'type' ]\n",
    "daily_attributes = ['date','trending', 'trendingScore', 'sentimentChange', 'volumeChange', 'price', 'change',\n",
    "                    'percent', 'lastUpdated', 'extendedHoursChange', 'open', 'outcome', 'last', 'extendedHoursPrice',\n",
    "                    'easternDateTime', 'previousCloseDate', 'previousClose', 'dateTime', 'volume', 'lastSize', 'low',\n",
    "                    'percentChange', 'high', 'extendedHoursPercentChange']#, 'extendedHoursDateTime']\n",
    "\n",
    "\n",
    "\n",
    "# # Initializing pandas dataframe for static data\n",
    "\n",
    "# attr_df = pd.DataFrame(columns=static_attributes, index=tix)\n",
    "\n",
    "# # Initializing pandas dataframes for daily data\n",
    "\n",
    "# tix_df_list = []\n",
    "\n",
    "# for tick in tix:\n",
    "#     globals()['{}_df'.format(tick)] = pd.DataFrame(columns=daily_attributes, index=np.arange(100))\n",
    "#     tix_df_list.append(globals()['{}_df'.format(tick)])\n",
    "    \n",
    "# tix_df = [MMM_df, AXP_df, AAPL_df, BA_df, CAT_df, CVX_df, CSCO_df, KO_df, DIS_df, DOW_df, XOM_df, \n",
    "#       GS_df, HD_df, IBM_df, INTC_df, JNJ_df, JPM_df, MCD_df, MRK_df, MSFT_df, NKE_df, PFE_df, PG_df,\n",
    "#       TRV_df, RTX_df, UNH_df, VZ_df, V_df, WMT_df, WBA_df]"
   ]
  },
  {
   "cell_type": "code",
   "execution_count": 6,
   "metadata": {},
   "outputs": [],
   "source": [
    "# Load previous data on current day at 8:00pm or later\n",
    "\n",
    "import pickle\n",
    "\n",
    "with open('tix_df.pkl', 'rb') as f:\n",
    "    tix_df = pickle.load(f)"
   ]
  },
  {
   "cell_type": "code",
   "execution_count": 7,
   "metadata": {},
   "outputs": [],
   "source": [
    "with open('incrementer.pkl', 'rb') as g:\n",
    "    daily_row = pickle.load(g)\n",
    "    \n",
    "daily_row += 1"
   ]
  },
  {
   "cell_type": "code",
   "execution_count": 8,
   "metadata": {},
   "outputs": [
    {
     "data": {
      "text/plain": [
       "6"
      ]
     },
     "execution_count": 8,
     "metadata": {},
     "output_type": "execute_result"
    }
   ],
   "source": [
    "daily_row"
   ]
  },
  {
   "cell_type": "code",
   "execution_count": 9,
   "metadata": {
    "scrolled": true
   },
   "outputs": [],
   "source": [
    "for j in range(len(tix)):\n",
    "#for tick in tix:\n",
    "    symbol = tix[j]\n",
    "    url = \"https://stocktwits.com/symbol/{}\".format(symbol)\n",
    "    r = requests.get(url)\n",
    "    soup = BeautifulSoup(r.content, 'html5lib')\n",
    "    \n",
    "    script = soup.find_all(\"script\")\n",
    "    pattern = re.compile('window.INITIAL_STATE = {.*}')\n",
    "    \n",
    "    for i in script:\n",
    "        strObj = i.text\n",
    "        match = pattern.search(strObj)\n",
    "        if match:\n",
    "            start_str = strObj.find('window.INITIAL_STATE')\n",
    "            front_str = strObj[start_str:] # front is proper\n",
    "            end_str = front_str.find(';') # find end\n",
    "            good_str = front_str[:end_str]\n",
    "            jsonString = good_str.split(\"window.INITIAL_STATE = \")[1][:].encode('utf8').decode('unicode_escape')\n",
    "            jsonData = json.loads(jsonString, strict=False)\n",
    "\n",
    "        \n",
    "        # LOOP THROUGH STATIC AND DAILY ATTRIBUTES TO BUILD OUT PANDAS DATAFRAME USING FORMAT BELOW\n",
    "    \n",
    "    #print(jsonData)\n",
    "    \n",
    "#     for static in static_attributes:\n",
    "#         attr_df.loc[\"{}\".format(symbol), static] = jsonData['stocks']['inventory'] \\\n",
    "#                                                             ['{}'.format(symbol)][static]\n",
    "\n",
    "    # Change this everyday, 0 = 5/31/2020\n",
    "#     daily_row = 1\n",
    "    # could load this into a pickle\n",
    "\n",
    "#     print(daily_row)\n",
    "    \n",
    "#     for df in tix_df_list:\n",
    "#         #print(daily_row)\n",
    "    z = 1\n",
    "    for daily in daily_attributes:\n",
    "        if daily == \"date\":\n",
    "            tix_df[j].iloc[daily_row, 0] = date.today()\n",
    "        else:\n",
    "            tix_df[j].iloc[daily_row, z] = jsonData['stocks']['inventory'] \\\n",
    "                                                        ['{}'.format(symbol)][daily]\n",
    "            z += 1\n",
    "\n"
   ]
  },
  {
   "cell_type": "code",
   "execution_count": 11,
   "metadata": {},
   "outputs": [
    {
     "data": {
      "text/plain": [
       "date                                           2020-06-07\n",
       "trending                                            False\n",
       "trendingScore                                    -2.10228\n",
       "sentimentChange                                      0.96\n",
       "volumeChange                                         3.51\n",
       "price                                              167.47\n",
       "change                                               4.92\n",
       "percent                                             3.026\n",
       "lastUpdated                   06/05/2020, 07:59:59 PM EDT\n",
       "extendedHoursChange                                  0.06\n",
       "open                                                  165\n",
       "outcome                                           Success\n",
       "last                                               167.47\n",
       "extendedHoursPrice                                 167.47\n",
       "easternDateTime               06/05/2020, 04:00:00 PM EDT\n",
       "previousCloseDate                              2020-06-04\n",
       "previousClose                                      162.55\n",
       "dateTime                              2020-06-05 23:59:59\n",
       "volume                                            4527587\n",
       "lastSize                                           541077\n",
       "low                                                   165\n",
       "percentChange                                       3.026\n",
       "high                                               168.35\n",
       "extendedHoursPercentChange                          0.036\n",
       "extendedHoursDateTime                                 NaN\n",
       "Name: 6, dtype: object"
      ]
     },
     "execution_count": 11,
     "metadata": {},
     "output_type": "execute_result"
    }
   ],
   "source": [
    "tix_df[0].iloc[6,:]"
   ]
  },
  {
   "cell_type": "code",
   "execution_count": 12,
   "metadata": {},
   "outputs": [],
   "source": [
    "import pickle\n",
    "\n",
    "with open('./tix_df.pkl', 'wb') as f:\n",
    "    pickle.dump(tix_df, f)"
   ]
  },
  {
   "cell_type": "code",
   "execution_count": 13,
   "metadata": {},
   "outputs": [],
   "source": [
    "# with open('./attr_df.pkl', 'wb') as g:\n",
    "#     pickle.dump(attr_df, g)"
   ]
  },
  {
   "cell_type": "code",
   "execution_count": 14,
   "metadata": {},
   "outputs": [],
   "source": [
    "with open('./incrementer.pkl', 'wb') as g:\n",
    "    pickle.dump(daily_row, g)"
   ]
  },
  {
   "cell_type": "code",
   "execution_count": 136,
   "metadata": {},
   "outputs": [],
   "source": [
    "# GOOD BASE\n",
    "\n",
    "# symbol = \"AXP\"\n",
    "\n",
    "# url = \"https://stocktwits.com/symbol/{}\".format(symbol)\n",
    "\n",
    "# r = requests.get(url) \n",
    "  \n",
    "# soup = BeautifulSoup(r.content, 'html5lib') \n",
    "# # print(soup.prettify())"
   ]
  },
  {
   "cell_type": "code",
   "execution_count": 137,
   "metadata": {
    "scrolled": true
   },
   "outputs": [
    {
     "name": "stdout",
     "output_type": "stream",
     "text": [
      "{'ads': {'awaitingRefresh': False, 'channel': '', 'initialized': False, 'queue': [], 'pathname': ''}, 'analytics': {'Context': '', 'pathname': '', 'Platform': '', 'user': {}}, 'announcements': {'latest': {}, 'dismissed': []}, 'advancedSearch': {'countsFetchingState': 'initial', 'fetchingState': 'initial', 'messages': [], 'symbolCounts': [], 'total': 0}, 'content': {}, 'currentUser': {'directMessages': {'isFetching': False, 'cursor': {}, 'items': {}, 'unread': 0}, 'followSuggestions': {'fetchError': False, 'isFetching': False, 'userIds': [], 'users': {}}, 'info': {'isAuthenticated': False}, 'notifications': {'cursor': {}, 'isFetching': False, 'items': {}, 'itemIds': [], 'listType': 'NotificationList', 'unread': 0}, 'rooms': {'allRooms': {}}, 'roomsNotifications': {'allUnreadCount': 0, 'notifications': {}}}, 'form': {}, 'messages': {'pathname': None}, 'messagePrices': {}, 'modal': {'chart': None, 'conversation': {'cursor': {}, 'messages': [], 'parent': {}}, 'direct': {'cursor': {}, 'conversation': {'id': None, 'subjectUser': {'id': None}}, 'directMessages': [], 'isFetching': False, 'hasError': False}, 'message': {'id': None, 'userId': None, 'likes': {'userIds': []}}, 'article': None, 'hasConversation': False, 'hasMessage': False, 'isOpen': False, 'modalType': '', 'showLoginModal': False, 'stock': None, 'zoom': '3m', 'pathname': None, 'isDirect': False}, 'navigation': {'showStocksMenu': False}, 'notification': {'banner': {'icon': None, 'message': ''}, 'icon': '', 'message': '', 'type': ''}, 'plus': {'status': 'none', 'selectedTier': 'month'}, 'profile': {'info': {'fetchError': False, 'isFetching': False, 'lastUpdated': None, 'mostMentioned': [], 'notFound': False}}, 'rooms': {'bySlug': {}, 'stocks': {}, 'users': {}}, 'search': {'cursor': {}, 'isFetching': False, 'items': [], 'listType': 'SearchList', 'pathname': None, 'results': {'symbols': [], 'users': [], 'topics': []}, 'recentlyViewed': [], 'searchValue': '', 'showPill': False, 'suggestions': []}, 'settings': {'blocked': {'users': {}, 'userIds': []}, 'muted': {'users': {}, 'userIds': []}, 'preferences': {'notifications': {'email': {}}}, 'connections': {'twitter': {'connected': False, 'shouldShare': False}}, 'tradingStrategyOptions': {'approach': ['Technical', 'Fundamental', 'Global Macro', 'Momentum', 'Growth', 'Value'], 'assetClassesTraded': ['Equities', 'Options', 'Forex', 'Futures', 'Bonds', 'Private Companies'], 'holdingPeriod': ['Day Trader', 'Swing Trader', 'Position Trader', 'Long Term Investor'], 'tradingExperience': ['Novice', 'Intermediate', 'Professional']}, 'user': {}}, 'stocks': {'inventory': {'AXP': {'fundamentals': {}, 'sentimentData': {'data': [], 'isFetching': True}, 'volumeData': {'data': [], 'isFetching': True}, 'symbol': 'AXP', 'id': 4423, 'title': 'American Express Company', 'aliases': [], 'isFollowing': False, 'watchlistCount': 12408, 'exchange': 'NYSE', 'sector': 'Financial', 'industry': 'Credit Services', 'logoUrl': 'http://logos.xignite.com/NYSE/00003630.gif', 'trending': False, 'trendingScore': -3.21555, 'sentimentChange': 0, 'volumeChange': -1.34, 'price': 96, 'change': -2.06, 'percent': -2.0709999999999997, 'lastUpdated': '05/29/2020, 07:59:59 PM EDT', 'extendedHoursChange': 0.93, 'extendedHoursType': 'PostMarket', 'open': 95.5, 'outcome': 'Success', 'last': 96, 'extendedHoursPrice': 96, 'easternDateTime': '05/29/2020, 04:00:00 PM EDT', 'previousCloseDate': '2020-05-28', 'previousClose': 98.06, 'dateTime': '2020-05-29 23:59:59', 'volume': 7711888, 'lastSize': '1123602', 'low': 94.66, 'percentChange': -2.0709999999999997, 'high': 97.11, 'extendedHoursPercentChange': 0.978, 'extendedHoursDateTime': '2020-05-29 23:59:59', 'easternExtendedHoursDateTime': '05/29/2020, 07:59:59 PM EDT', 'type': 'equity'}}, 'isFetching': True, 'isUpdating': False, 'indices': ['DIA', 'SPY', 'QQQ'], 'topStocks': [], 'trending': [], 'userWatchlist': [], 'heatmap': {}}, 'stream': {'items': {}, 'byId': {}, 'socket': {'streamId': None, 'streamType': None, 'socketId': None}, 'flowing': False, 'filter': 'top', 'filterSet': False}, 'users': {}, 'st': {'autosuggest': {}, 'earnings': {'dates': {}, 'fetchError': False, 'isFetching': True, 'symbols': []}, 'news': {'articlesById': {}, 'bucketsById': {}}, 'plus': {'marketHours': {'isOpen': True, 'nextClose': '', 'nextOpen': ''}, 'theme': {'viewMode': 'lightMode'}}, 'referenceCurrentDate': {'date': '2020-05-21T12:26:14.491Z'}, 'watchlists': {'state': 'initial'}}}\n"
     ]
    }
   ],
   "source": [
    "# # GOOD BASE\n",
    "\n",
    "# script = soup.find_all(\"script\")\n",
    "# pattern = re.compile('window.INITIAL_STATE = {.*}')#'#JSON.parse(.*);')\n",
    "\n",
    "# for i in script:\n",
    "#     strObj = i.text\n",
    "#     match = pattern.search(strObj)\n",
    "#     #print(match)\n",
    "#     if match:\n",
    "#         start_str = strObj.find('window.INITIAL_STATE')\n",
    "#         front_str = strObj[134:] # front is proper\n",
    "#         end_str = front_str.find(';') # find end\n",
    "#         good_str = front_str[:end_str]\n",
    "#         jsonString = good_str.split(\"window.INITIAL_STATE = \")[1][:].encode('utf8').decode('unicode_escape')\n",
    "        \n",
    "#         #print(good_str.split()[1:-1].encode('utf8'))\n",
    "#         #jsonString = good_str.encode('utf8').decode('unicode_escape')\n",
    "# #         print(jsonString)\n",
    "# #         print(jsonString[4040])\n",
    "#         jsonData = json.loads(jsonString, strict=False)\n",
    "#         print(jsonData)"
   ]
  },
  {
   "cell_type": "code",
   "execution_count": 140,
   "metadata": {},
   "outputs": [
    {
     "data": {
      "text/plain": [
       "{'fundamentals': {},\n",
       " 'sentimentData': {'data': [], 'isFetching': True},\n",
       " 'volumeData': {'data': [], 'isFetching': True},\n",
       " 'symbol': 'AXP',\n",
       " 'id': 4423,\n",
       " 'title': 'American Express Company',\n",
       " 'aliases': [],\n",
       " 'isFollowing': False,\n",
       " 'watchlistCount': 12408,\n",
       " 'exchange': 'NYSE',\n",
       " 'sector': 'Financial',\n",
       " 'industry': 'Credit Services',\n",
       " 'logoUrl': 'http://logos.xignite.com/NYSE/00003630.gif',\n",
       " 'trending': False,\n",
       " 'trendingScore': -3.21555,\n",
       " 'sentimentChange': 0,\n",
       " 'volumeChange': -1.34,\n",
       " 'price': 96,\n",
       " 'change': -2.06,\n",
       " 'percent': -2.0709999999999997,\n",
       " 'lastUpdated': '05/29/2020, 07:59:59 PM EDT',\n",
       " 'extendedHoursChange': 0.93,\n",
       " 'extendedHoursType': 'PostMarket',\n",
       " 'open': 95.5,\n",
       " 'outcome': 'Success',\n",
       " 'last': 96,\n",
       " 'extendedHoursPrice': 96,\n",
       " 'easternDateTime': '05/29/2020, 04:00:00 PM EDT',\n",
       " 'previousCloseDate': '2020-05-28',\n",
       " 'previousClose': 98.06,\n",
       " 'dateTime': '2020-05-29 23:59:59',\n",
       " 'volume': 7711888,\n",
       " 'lastSize': '1123602',\n",
       " 'low': 94.66,\n",
       " 'percentChange': -2.0709999999999997,\n",
       " 'high': 97.11,\n",
       " 'extendedHoursPercentChange': 0.978,\n",
       " 'extendedHoursDateTime': '2020-05-29 23:59:59',\n",
       " 'easternExtendedHoursDateTime': '05/29/2020, 07:59:59 PM EDT',\n",
       " 'type': 'equity'}"
      ]
     },
     "execution_count": 140,
     "metadata": {},
     "output_type": "execute_result"
    }
   ],
   "source": [
    "# jsonData['stocks']['inventory']['AXP']"
   ]
  },
  {
   "cell_type": "code",
   "execution_count": null,
   "metadata": {},
   "outputs": [],
   "source": []
  }
 ],
 "metadata": {
  "kernelspec": {
   "display_name": "Python [default]",
   "language": "python",
   "name": "python3"
  },
  "language_info": {
   "codemirror_mode": {
    "name": "ipython",
    "version": 3
   },
   "file_extension": ".py",
   "mimetype": "text/x-python",
   "name": "python",
   "nbconvert_exporter": "python",
   "pygments_lexer": "ipython3",
   "version": "3.6.8"
  }
 },
 "nbformat": 4,
 "nbformat_minor": 2
}
